{
 "cells": [
  {
   "cell_type": "code",
   "execution_count": 1,
   "id": "cc94fb99",
   "metadata": {},
   "outputs": [
    {
     "name": "stdout",
     "output_type": "stream",
     "text": [
      "Masukkan ID toko disini: shasha_gwb\n",
      "Getting User ID..\n",
      "Getting Product list..\n",
      "Saving hTML page..\n",
      "Complete...\n"
     ]
    },
    {
     "data": {
      "text/plain": [
       "<__main__.Scrape at 0x7feac037f550>"
      ]
     },
     "execution_count": 1,
     "metadata": {},
     "output_type": "execute_result"
    }
   ],
   "source": [
    "import requests\n",
    "import json\n",
    "from bs4 import BeautifulSoup\n",
    "class Scrape:\n",
    "    def __init__(self, USERNAME):\n",
    "        REQ = requests.Session()\n",
    "        print('Getting User ID..')\n",
    "        USERID = self.GET_USERID(USERNAME, REQ)\n",
    "        if USERID == False:\n",
    "            print('User ID not found, try again..')\n",
    "            return\n",
    "        print('Getting Product list..')\n",
    "        PRODUCTS = self.GET_PRODUCTS(USERID, REQ)\n",
    "        if PRODUCTS == False:\n",
    "            print('Product list not found, try again..')\n",
    "            return\n",
    "        print('Saving hTML page..')\n",
    "        self.SAVE_PAGE(USERNAME, REQ)\n",
    "        print('Complete...')\n",
    "\n",
    "    def SAVE_PAGE(self, USERNAME, REQ):\n",
    "        #url yang akan dilakukan scrapping datanya\n",
    "        URL = \"https://shopee.co.id/{}\".format(USERNAME)\n",
    "        #melakukan request data dengan metod get pada url Api\n",
    "        RESPONSE = REQ.get(URL)\n",
    "        #digunakan untuk men scrape semua data html\n",
    "        SOUP = BeautifulSoup(RESPONSE.content, 'html.parser')\n",
    "        # Menyimpan halaman utama toko dalam format html\n",
    "        FILE_NAME = 'Shopee_{}.html'.format(USERNAME)\n",
    "        with open(FILE_NAME, 'w') as file:\n",
    "            return file.write(SOUP.prettify())\n",
    "\n",
    "\n",
    "    def GET_USERID(self, USERNAME, REQ):\n",
    "        HEADERS = {\n",
    "            \"accept-encoding\": \"gzip, deflate, br\",\n",
    "            \"content-type\": \"application/json\",\n",
    "            \"if-none-match\": \"55b03-1ae7d4aa7c47753a96c0ade3a9ea8b35\",\n",
    "            \"origin\": \"https://shopee.co.id\",\n",
    "            \"referer\": \"https://shopee.co.id/asusofficialshop\",\n",
    "            \"x-api-source\": \"pc\",\n",
    "            \"x-csrftoken\": \"8XtQ7bHlv09rlx5U4NPN6rmavFn7MvTO\",\n",
    "            \"x-requested-with\": \"XMLHttpRequest\",\n",
    "            \"user-agent\": \"Mozilla/5.0 (Macintosh; Intel Mac OS X 10_14_2) AppleWebKit/537.36 (KHTML, like Gecko) Chrome/71.0.3578.98 Safari/537.36\",\n",
    "            \"cookie\": 'SPC_IA=-1; SPC_EC=-; SPC_F=QpolQhTSikpnxRXO6T4RjIW8ZGHNBmBn; REC_T_ID=ac80cdde-0e7d-11e9-a8c2-3c15fb3af585; SPC_T_ID=\"e4t1VmH0VKB0NajA1BrHaDQlFRwWjTZT7o83rrHW+p16sTf1NJK7ksWWDicCTPq8CVO/S8sxnw25gNR0DLQz3cv7U3EQle9Z9ereUnPityQ=\"; SPC_SI=k2en4gw50emawx5fjaawd3fnb5o5gu0w; SPC_U=-; SPC_T_IV=\"in3vKQSBLhXzeTaGwMInvg==\"; _gcl_au=1.1.557205539.1546426854; csrftoken=8XtQ7bHlv09rlx5U4NPN6rmavFn7MvTO; welcomePkgShown=true; bannerShown=true; _ga=GA1.3.472488305.1546426857; _gid=GA1.3.1348013297.1546426857; _fbp=fb.2.1546436170115.11466858'\n",
    "        }\n",
    "        URL = \"https://shopee.co.id/api/v1/shop_ids_by_username/\"\n",
    "        #url Api untuk get data nama toko berdasarkan ids tokonya\n",
    "        DATA = {\n",
    "            \"usernames\": [USERNAME]\n",
    "        }\n",
    "        GET_DATA = REQ.post(URL, headers=HEADERS, json=DATA)\n",
    "        RESULT = GET_DATA.json()\n",
    "        USERID = RESULT[0][USERNAME]\n",
    "        return USERID\n",
    "\n",
    "    def GET_PRODUCTS(self, USERID, REQ):\n",
    "        HEADERS = {\n",
    "            \"user-agent\": \"Mozilla/5.0 (Macintosh; Intel Mac OS X 10_14_2) AppleWebKit/537.36 (KHTML, like Gecko) Chrome/71.0.3578.98 Safari/537.36\"\n",
    "        }\n",
    "        #url Api untuk get semua produk pada setiap toko\n",
    "        URL = 'https://shopee.co.id/api/v2/search_items/?match_id={}&order=desc&page_type=shop'.format(\n",
    "            USERID\n",
    "        )\n",
    "        GET_DATA = REQ.get(URL, headers=HEADERS)\n",
    "        RESULT = GET_DATA.json()\n",
    "\n",
    "        # menyimpan data yang telah di scrapping dalam format json\n",
    "        FILE_NAME = 'Shopee_{}.json'.format(USERID)\n",
    "        with open(FILE_NAME, 'w') as file:\n",
    "            json.dump(RESULT, file)\n",
    "        return RESULT['items']\n",
    "\n",
    "URL = input('Masukkan ID toko disini: ')\n",
    "Scrape(URL)"
   ]
  },
  {
   "cell_type": "code",
   "execution_count": null,
   "id": "5852e85a",
   "metadata": {},
   "outputs": [],
   "source": []
  }
 ],
 "metadata": {
  "kernelspec": {
   "display_name": "Python 3 (ipykernel)",
   "language": "python",
   "name": "python3"
  },
  "language_info": {
   "codemirror_mode": {
    "name": "ipython",
    "version": 3
   },
   "file_extension": ".py",
   "mimetype": "text/x-python",
   "name": "python",
   "nbconvert_exporter": "python",
   "pygments_lexer": "ipython3",
   "version": "3.9.7"
  }
 },
 "nbformat": 4,
 "nbformat_minor": 5
}
